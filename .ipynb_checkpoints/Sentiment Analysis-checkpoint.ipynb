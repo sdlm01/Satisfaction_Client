{
 "cells": [
  {
   "cell_type": "markdown",
   "id": "e0ee73a5",
   "metadata": {},
   "source": [
    "# Sentiment basé sur les reviews"
   ]
  },
  {
   "cell_type": "markdown",
   "id": "fc2c819a",
   "metadata": {},
   "source": [
    "J'ai testé différent Dataset avec différents modèle de text mining pour prédire les sentiments à partir des reviews. Le modèle qui fonctionne le mieux pour le moment est le modèle bag CountVectorizer. Le modèle prédit assez bien pour les avis positifs et un peu moins bien pour les avis négatifs. \n",
    "Des solutions pour améliorer le modèle:\n",
    "* combiner les deux dataset\n",
    "* Utiliser un modèle de text Mining Pré-entrainer sur un gros volume de données tel que Vader\n",
    "* Utiliser d'autre Dataset ou d'autres modèles de text mining"
   ]
  },
  {
   "cell_type": "code",
   "execution_count": 1,
   "id": "c926b463",
   "metadata": {},
   "outputs": [
    {
     "name": "stderr",
     "output_type": "stream",
     "text": [
      "[nltk_data] Downloading package punkt to /Users/kenny/nltk_data...\n",
      "[nltk_data]   Package punkt is already up-to-date!\n"
     ]
    }
   ],
   "source": [
    "from nltk.tokenize import word_tokenize\n",
    "import nltk\n",
    "if nltk.download('punkt') == True:\n",
    "    pass\n",
    "else:\n",
    "    nltk.download('punkt')"
   ]
  },
  {
   "cell_type": "markdown",
   "id": "d952744d",
   "metadata": {},
   "source": [
    "# Nettoyage et traitement jeu de données"
   ]
  },
  {
   "cell_type": "markdown",
   "id": "cb870b53",
   "metadata": {},
   "source": [
    "Fonction qui permet de récuperer les tokens dans la reviews. On filtre pour garder les tokens seulement avec une longueur supérieur ou égale à 4 pour garder une cohérence dans le modèle"
   ]
  },
  {
   "cell_type": "code",
   "execution_count": 2,
   "id": "03586430",
   "metadata": {},
   "outputs": [],
   "source": [
    "from nltk.tokenize.regexp import RegexpTokenizer\n",
    "\n",
    "tokenizer = RegexpTokenizer(r\"[a-zA-Z0-9]{4,}\")\n"
   ]
  },
  {
   "cell_type": "markdown",
   "id": "24c76db4",
   "metadata": {},
   "source": [
    "Fonction qui va permettre d'enlever les stopwords pour chaques reviews"
   ]
  },
  {
   "cell_type": "code",
   "execution_count": 3,
   "id": "d3d2cfc3",
   "metadata": {},
   "outputs": [],
   "source": [
    "from nltk.corpus import stopwords\n",
    "\n",
    "stop_words = set(stopwords.words('english'))\n",
    "stop_words.update([\".\",\",\",\"?\",\"@\"])\n",
    "\n",
    "def stop_words_filtering(l):\n",
    "    for element in l:\n",
    "        if element in stop_words:\n",
    "            l.remove(element)\n",
    "    return l"
   ]
  },
  {
   "cell_type": "markdown",
   "id": "2b5d19ed",
   "metadata": {},
   "source": [
    "Fonction de lemmatisation qui permet de réduire le mot dans sa forme canonique"
   ]
  },
  {
   "cell_type": "code",
   "execution_count": 4,
   "id": "8a6e89d0",
   "metadata": {},
   "outputs": [],
   "source": [
    "from nltk.stem import WordNetLemmatizer\n",
    "\n",
    "def lemmatisation(mots):\n",
    "    wordnet_lemmatizer = WordNetLemmatizer()\n",
    "    result = []\n",
    "    for element in mots:\n",
    "        radical = wordnet_lemmatizer.lemmatize(element, pos='v')\n",
    "        if (radical not in result):\n",
    "            result.append(radical)\n",
    "    return result"
   ]
  },
  {
   "cell_type": "markdown",
   "id": "35158528",
   "metadata": {},
   "source": [
    "Fonction de stemmer pour réduire le mot à sa racine. on a décidé de ne pas l'utiliser car la lemmatisation est plus performante"
   ]
  },
  {
   "cell_type": "code",
   "execution_count": 5,
   "id": "feac862a",
   "metadata": {},
   "outputs": [],
   "source": [
    "from nltk.stem.snowball import PorterStemmer\n",
    "\n",
    "def stemming(mots) :\n",
    "    stemmer = PorterStemmer()\n",
    "    sortie = []\n",
    "    for string in mots :\n",
    "        radical = stemmer.stem(string)\n",
    "        if (radical not in sortie) : sortie.append(radical)\n",
    "    return sortie"
   ]
  },
  {
   "cell_type": "markdown",
   "id": "10941438",
   "metadata": {},
   "source": [
    "# Import Dataset d'entrainement"
   ]
  },
  {
   "cell_type": "markdown",
   "id": "24d2cd84",
   "metadata": {},
   "source": [
    "Source Dataset: https://www.kaggle.com/datasets/abhi8923shriv/sentiment-analysis-dataset"
   ]
  },
  {
   "cell_type": "markdown",
   "id": "e7f7d5f9",
   "metadata": {},
   "source": [
    "L'objectif est de créer un modèle capable de prédire si un texte est positif neutre ou négatif. Pour cela on va prendre un jeu de donnée contenant des reviews avec leur label. Après cet entrainement, on va tester le modèle avec nos propres données"
   ]
  },
  {
   "cell_type": "markdown",
   "id": "10f3ecb8",
   "metadata": {},
   "source": [
    "On va prendre importer nos données d'entrainements et on va ensuite diviser en jeu d'entrainement et de test"
   ]
  },
  {
   "cell_type": "code",
   "execution_count": 6,
   "id": "9810ad1d",
   "metadata": {},
   "outputs": [],
   "source": [
    "import pandas as pd \n",
    "\n",
    "df_test = pd.read_csv(\"test.csv\", encoding='ISO-8859-1')\n",
    "df_train = pd.read_csv(\"train.csv\", encoding='ISO-8859-1')\n",
    "df_test = df_test[df_test[\"sentiment\"] != \"neutral\"]\n",
    "df_train = df_train[df_train[\"sentiment\"] != \"neutral\"]\n",
    "\n",
    "df_test = df_test.dropna(subset=['text'])\n",
    "df_train = df_train.dropna(subset=['text'])\n",
    "\n",
    "df_train[\"text\"] = df_train[\"text\"].str.lower().apply(tokenizer.tokenize)\n",
    "df_test[\"text\"] = df_test[\"text\"].str.lower().apply(tokenizer.tokenize)\n",
    "\n",
    "df_train[\"text\"] = df_train[\"text\"].apply(stop_words_filtering)\n",
    "df_test[\"text\"] = df_test[\"text\"].apply(stop_words_filtering)\n",
    "\n",
    "X_train = df_train[\"text\"]\n",
    "X_test = df_test[\"text\"]\n",
    "y_train = df_train[\"sentiment\"]\n",
    "y_test = df_test[\"sentiment\"]"
   ]
  },
  {
   "cell_type": "markdown",
   "id": "5856518e",
   "metadata": {},
   "source": [
    "Conversion en liste de String pour que le format soit compatible avec les algo BAG"
   ]
  },
  {
   "cell_type": "code",
   "execution_count": 7,
   "id": "e7787556",
   "metadata": {},
   "outputs": [
    {
     "name": "stderr",
     "output_type": "stream",
     "text": [
      "/var/folders/gn/m9wg83v51bv_l37t21djcp_00000gn/T/ipykernel_83519/3478903708.py:2: SettingWithCopyWarning: \n",
      "A value is trying to be set on a copy of a slice from a DataFrame\n",
      "\n",
      "See the caveats in the documentation: https://pandas.pydata.org/pandas-docs/stable/user_guide/indexing.html#returning-a-view-versus-a-copy\n",
      "  X_train.iloc[element] = \" \".join(lemmatisation(X_train.iloc[element]))\n",
      "/var/folders/gn/m9wg83v51bv_l37t21djcp_00000gn/T/ipykernel_83519/3478903708.py:5: SettingWithCopyWarning: \n",
      "A value is trying to be set on a copy of a slice from a DataFrame\n",
      "\n",
      "See the caveats in the documentation: https://pandas.pydata.org/pandas-docs/stable/user_guide/indexing.html#returning-a-view-versus-a-copy\n",
      "  X_test.iloc[element] = \" \".join(lemmatisation(X_test.iloc[element]))\n"
     ]
    }
   ],
   "source": [
    "for element in range(len(X_train)):\n",
    "    X_train.iloc[element] = \" \".join(lemmatisation(X_train.iloc[element]))\n",
    "    \n",
    "for element in range(len(X_test)):\n",
    "    X_test.iloc[element] = \" \".join(lemmatisation(X_test.iloc[element]))\n",
    "    "
   ]
  },
  {
   "cell_type": "markdown",
   "id": "3d6cd3fb",
   "metadata": {},
   "source": [
    "# Algo BAG avec CountVectorizer"
   ]
  },
  {
   "cell_type": "markdown",
   "id": "d7564eee",
   "metadata": {},
   "source": [
    "application du CountVectorizer sur nos jeux d'entrainements et de tests"
   ]
  },
  {
   "cell_type": "code",
   "execution_count": 8,
   "id": "01bb7c2a",
   "metadata": {},
   "outputs": [],
   "source": [
    "from sklearn.feature_extraction.text import CountVectorizer\n",
    "vectorizer = CountVectorizer()\n",
    "X_train = vectorizer.fit_transform(X_train)\n",
    "X_test = vectorizer.transform(X_test)"
   ]
  },
  {
   "cell_type": "markdown",
   "id": "358d4c81",
   "metadata": {},
   "source": [
    "Entrainement avec l'algo du GradientBoostingClassifier"
   ]
  },
  {
   "cell_type": "code",
   "execution_count": 9,
   "id": "b25cffde",
   "metadata": {},
   "outputs": [],
   "source": [
    "from sklearn.ensemble import GradientBoostingClassifier\n",
    "clf = GradientBoostingClassifier(n_estimators=100, learning_rate=1.0, max_depth=1, random_state=42).fit(X_train, y_train)\n",
    "\n",
    "y_pred = clf.predict(X_test)"
   ]
  },
  {
   "cell_type": "markdown",
   "id": "7ebb895c",
   "metadata": {},
   "source": [
    "Résultat de prédictions plutôt correct"
   ]
  },
  {
   "cell_type": "code",
   "execution_count": 10,
   "id": "4898ad55",
   "metadata": {},
   "outputs": [
    {
     "name": "stdout",
     "output_type": "stream",
     "text": [
      "              precision    recall  f1-score   support\n",
      "\n",
      "    negative       0.77      0.91      0.84      1001\n",
      "    positive       0.90      0.76      0.82      1103\n",
      "\n",
      "    accuracy                           0.83      2104\n",
      "   macro avg       0.84      0.83      0.83      2104\n",
      "weighted avg       0.84      0.83      0.83      2104\n",
      "\n"
     ]
    }
   ],
   "source": [
    "from sklearn.metrics import classification_report\n",
    "\n",
    "print( classification_report(y_test, y_pred))"
   ]
  },
  {
   "cell_type": "markdown",
   "id": "88f42a5e",
   "metadata": {},
   "source": [
    "# Algo BAG avec TFIDF"
   ]
  },
  {
   "cell_type": "markdown",
   "id": "ef77fcb7",
   "metadata": {},
   "source": [
    "La même chose avec TFIDF"
   ]
  },
  {
   "cell_type": "code",
   "execution_count": 11,
   "id": "2fd83402",
   "metadata": {},
   "outputs": [],
   "source": [
    "import pandas as pd \n",
    "\n",
    "df_test = pd.read_csv(\"test.csv\", encoding='ISO-8859-1')\n",
    "df_train = pd.read_csv(\"train.csv\", encoding='ISO-8859-1')\n",
    "df_test = df_test[df_test[\"sentiment\"] != \"neutral\"]\n",
    "df_train = df_train[df_train[\"sentiment\"] != \"neutral\"]\n",
    "\n",
    "df_test = df_test.dropna(subset=['text'])\n",
    "df_train = df_train.dropna(subset=['text'])\n",
    "\n",
    "df_train[\"text\"] = df_train[\"text\"].str.lower().apply(tokenizer.tokenize)\n",
    "df_test[\"text\"] = df_test[\"text\"].str.lower().apply(tokenizer.tokenize)\n",
    "\n",
    "df_train[\"text\"] = df_train[\"text\"].apply(stop_words_filtering)\n",
    "df_test[\"text\"] = df_test[\"text\"].apply(stop_words_filtering)\n",
    "\n",
    "X_train = df_train[\"text\"]\n",
    "X_test = df_test[\"text\"]\n",
    "y_train = df_train[\"sentiment\"]\n",
    "y_test = df_test[\"sentiment\"]"
   ]
  },
  {
   "cell_type": "code",
   "execution_count": 12,
   "id": "8b7d4ebb",
   "metadata": {},
   "outputs": [
    {
     "name": "stderr",
     "output_type": "stream",
     "text": [
      "/var/folders/gn/m9wg83v51bv_l37t21djcp_00000gn/T/ipykernel_83519/3478903708.py:2: SettingWithCopyWarning: \n",
      "A value is trying to be set on a copy of a slice from a DataFrame\n",
      "\n",
      "See the caveats in the documentation: https://pandas.pydata.org/pandas-docs/stable/user_guide/indexing.html#returning-a-view-versus-a-copy\n",
      "  X_train.iloc[element] = \" \".join(lemmatisation(X_train.iloc[element]))\n",
      "/var/folders/gn/m9wg83v51bv_l37t21djcp_00000gn/T/ipykernel_83519/3478903708.py:5: SettingWithCopyWarning: \n",
      "A value is trying to be set on a copy of a slice from a DataFrame\n",
      "\n",
      "See the caveats in the documentation: https://pandas.pydata.org/pandas-docs/stable/user_guide/indexing.html#returning-a-view-versus-a-copy\n",
      "  X_test.iloc[element] = \" \".join(lemmatisation(X_test.iloc[element]))\n"
     ]
    }
   ],
   "source": [
    "for element in range(len(X_train)):\n",
    "    X_train.iloc[element] = \" \".join(lemmatisation(X_train.iloc[element]))\n",
    "    \n",
    "for element in range(len(X_test)):\n",
    "    X_test.iloc[element] = \" \".join(lemmatisation(X_test.iloc[element]))\n",
    "    "
   ]
  },
  {
   "cell_type": "code",
   "execution_count": 13,
   "id": "4b306c14",
   "metadata": {},
   "outputs": [],
   "source": [
    "from sklearn.feature_extraction.text import TfidfVectorizer\n",
    "\n",
    "\n",
    "vec_tfidf = TfidfVectorizer()\n",
    "X_train_tfidf = vec_tfidf.fit_transform(X_train)\n",
    "X_test_tfidf = vec_tfidf.transform(X_test)\n"
   ]
  },
  {
   "cell_type": "code",
   "execution_count": 14,
   "id": "bdb6cbe1",
   "metadata": {},
   "outputs": [],
   "source": [
    "\n",
    "clf_tfidf = GradientBoostingClassifier(n_estimators=100, learning_rate=1, max_depth=1, random_state=42).fit(X_train_tfidf, y_train)\n",
    "\n",
    "y_pred_tfidf = clf.predict(X_test_tfidf)"
   ]
  },
  {
   "cell_type": "code",
   "execution_count": 15,
   "id": "ea93b988",
   "metadata": {},
   "outputs": [
    {
     "name": "stdout",
     "output_type": "stream",
     "text": [
      "              precision    recall  f1-score   support\n",
      "\n",
      "    negative       0.51      0.99      0.67      1001\n",
      "    positive       0.91      0.15      0.25      1103\n",
      "\n",
      "    accuracy                           0.54      2104\n",
      "   macro avg       0.71      0.57      0.46      2104\n",
      "weighted avg       0.72      0.54      0.45      2104\n",
      "\n"
     ]
    }
   ],
   "source": [
    "print( classification_report(y_test, y_pred_tfidf))"
   ]
  },
  {
   "cell_type": "markdown",
   "id": "c8d6e833",
   "metadata": {},
   "source": [
    "Test sur nos jeux de données"
   ]
  },
  {
   "cell_type": "code",
   "execution_count": 16,
   "id": "35a6e361",
   "metadata": {},
   "outputs": [],
   "source": [
    "data = pd.read_csv(\"evengreen_com.csv\")"
   ]
  },
  {
   "cell_type": "code",
   "execution_count": 17,
   "id": "cb525f69",
   "metadata": {},
   "outputs": [],
   "source": [
    "def extract_sentiment_cv(reviews):\n",
    "    result = []\n",
    "    for text in reviews:\n",
    "\n",
    "        new_text_vectorized = vectorizer.transform([text])\n",
    "\n",
    "        prediction = clf.predict(new_text_vectorized)\n",
    "        result.append(prediction[0])\n",
    "    return result"
   ]
  },
  {
   "cell_type": "code",
   "execution_count": 18,
   "id": "d8d7b860",
   "metadata": {},
   "outputs": [],
   "source": [
    "data[\"sentiment_review\"] = extract_sentiment_cv(data[\"Review Text\"])"
   ]
  },
  {
   "cell_type": "code",
   "execution_count": 19,
   "id": "d9147b06",
   "metadata": {},
   "outputs": [],
   "source": [
    "r = extract_sentiment_cv(data[\"Review Text\"])\n"
   ]
  },
  {
   "cell_type": "code",
   "execution_count": 20,
   "id": "2b371a44",
   "metadata": {},
   "outputs": [],
   "source": [
    "def extract_sentiment_tfidf(reviews):\n",
    "    result = []\n",
    "    for text in reviews:\n",
    "\n",
    "        new_text_vectorized = vec_tfidf.transform([text])\n",
    "\n",
    "        prediction = clf_tfidf.predict(new_text_vectorized)\n",
    "        result.append(prediction[0])\n",
    "    return result"
   ]
  },
  {
   "cell_type": "code",
   "execution_count": 21,
   "id": "c7eac9c2",
   "metadata": {},
   "outputs": [],
   "source": [
    "data[\"sentiment_review\"] = extract_sentiment_tfidf(data[\"Review Text\"])\n",
    "r = extract_sentiment_tfidf(data[\"Review Text\"])"
   ]
  },
  {
   "cell_type": "code",
   "execution_count": 22,
   "id": "515a170e",
   "metadata": {},
   "outputs": [
    {
     "data": {
      "text/html": [
       "<div>\n",
       "<style scoped>\n",
       "    .dataframe tbody tr th:only-of-type {\n",
       "        vertical-align: middle;\n",
       "    }\n",
       "\n",
       "    .dataframe tbody tr th {\n",
       "        vertical-align: top;\n",
       "    }\n",
       "\n",
       "    .dataframe thead th {\n",
       "        text-align: right;\n",
       "    }\n",
       "</style>\n",
       "<table border=\"1\" class=\"dataframe\">\n",
       "  <thead>\n",
       "    <tr style=\"text-align: right;\">\n",
       "      <th></th>\n",
       "      <th>Reviewer Name</th>\n",
       "      <th>Date</th>\n",
       "      <th>Rating</th>\n",
       "      <th>Review Title</th>\n",
       "      <th>Review Text</th>\n",
       "      <th>sentiment_review</th>\n",
       "    </tr>\n",
       "  </thead>\n",
       "  <tbody>\n",
       "    <tr>\n",
       "      <th>0</th>\n",
       "      <td>Dale Anketell2 reviewsUS7 days agoVerifiedMy E...</td>\n",
       "      <td>2024-07-30T21:52:51.000Z</td>\n",
       "      <td>&lt;div class=\"star-rating_starRating__4rrcf star...</td>\n",
       "      <td>My Experience with Evergreen has always…</td>\n",
       "      <td>My Experience with Evergreen has always been n...</td>\n",
       "      <td>negative</td>\n",
       "    </tr>\n",
       "    <tr>\n",
       "      <th>1</th>\n",
       "      <td>Marian Giovannini2 reviewsUSJul 18, 2024Disapp...</td>\n",
       "      <td>2024-07-18T15:43:33.000Z</td>\n",
       "      <td>&lt;div class=\"star-rating_starRating__4rrcf star...</td>\n",
       "      <td>Disappointed</td>\n",
       "      <td>I was very disappointed to be denied a credit ...</td>\n",
       "      <td>negative</td>\n",
       "    </tr>\n",
       "    <tr>\n",
       "      <th>2</th>\n",
       "      <td>ASAshleigh Scalamandre1 reviewUSJul 10, 2024Ve...</td>\n",
       "      <td>2024-07-10T17:43:24.000Z</td>\n",
       "      <td>&lt;div class=\"star-rating_starRating__4rrcf star...</td>\n",
       "      <td>Amazing Team at Evergreen</td>\n",
       "      <td>I just wanted to thank the Evergreen Team agai...</td>\n",
       "      <td>positive</td>\n",
       "    </tr>\n",
       "    <tr>\n",
       "      <th>3</th>\n",
       "      <td>TCTed Coffin1 reviewUSJul 5, 2024VerifiedGreat...</td>\n",
       "      <td>2024-07-05T23:39:50.000Z</td>\n",
       "      <td>&lt;div class=\"star-rating_starRating__4rrcf star...</td>\n",
       "      <td>Great customer service</td>\n",
       "      <td>My wife and I are buying are house and somethi...</td>\n",
       "      <td>positive</td>\n",
       "    </tr>\n",
       "    <tr>\n",
       "      <th>4</th>\n",
       "      <td>SSSherry Spaulding1 reviewUSJul 3, 2024Verifie...</td>\n",
       "      <td>2024-07-03T01:46:56.000Z</td>\n",
       "      <td>&lt;div class=\"star-rating_starRating__4rrcf star...</td>\n",
       "      <td>Evergreen Credit Union was amazing to…</td>\n",
       "      <td>Evergreen Credit Union was amazing to work wit...</td>\n",
       "      <td>positive</td>\n",
       "    </tr>\n",
       "    <tr>\n",
       "      <th>5</th>\n",
       "      <td>NSNoel Sherburne1 reviewUSJun 18, 2024Verified...</td>\n",
       "      <td>2024-06-18T20:22:49.000Z</td>\n",
       "      <td>&lt;div class=\"star-rating_starRating__4rrcf star...</td>\n",
       "      <td>I requested bank statements and the…</td>\n",
       "      <td>I requested bank statements and the request wa...</td>\n",
       "      <td>positive</td>\n",
       "    </tr>\n",
       "    <tr>\n",
       "      <th>6</th>\n",
       "      <td>MLMatthew L’Abbe1 reviewUSJun 18, 2024Verified...</td>\n",
       "      <td>2024-06-18T18:56:21.000Z</td>\n",
       "      <td>&lt;div class=\"star-rating_starRating__4rrcf star...</td>\n",
       "      <td>Great experience</td>\n",
       "      <td>I had multiple scam charges ending in a negati...</td>\n",
       "      <td>positive</td>\n",
       "    </tr>\n",
       "    <tr>\n",
       "      <th>7</th>\n",
       "      <td>LELindsay Edwards1 reviewUSMay 23, 2024Verifie...</td>\n",
       "      <td>2024-05-23T22:35:55.000Z</td>\n",
       "      <td>&lt;div class=\"star-rating_starRating__4rrcf star...</td>\n",
       "      <td>Best Ever Banking Experience</td>\n",
       "      <td>Casey has been amazing to work with. I have be...</td>\n",
       "      <td>positive</td>\n",
       "    </tr>\n",
       "    <tr>\n",
       "      <th>8</th>\n",
       "      <td>KEKen1 reviewSEApr 20, 2024VerifiedSecurity I ...</td>\n",
       "      <td>2024-04-20T18:12:35.000Z</td>\n",
       "      <td>&lt;div class=\"star-rating_starRating__4rrcf star...</td>\n",
       "      <td>Security</td>\n",
       "      <td>I called the Evergreen's Portland location on ...</td>\n",
       "      <td>negative</td>\n",
       "    </tr>\n",
       "    <tr>\n",
       "      <th>9</th>\n",
       "      <td>TNThe Noyes Family1 reviewUSMay 10, 2024Verifi...</td>\n",
       "      <td>2024-05-10T19:18:42.000Z</td>\n",
       "      <td>&lt;div class=\"star-rating_starRating__4rrcf star...</td>\n",
       "      <td>Exceptional Service From Entering to Exiting!</td>\n",
       "      <td>We wanted to extend our gratitude to the excep...</td>\n",
       "      <td>positive</td>\n",
       "    </tr>\n",
       "    <tr>\n",
       "      <th>10</th>\n",
       "      <td>CUcustomer1 reviewUSMay 8, 2024VerifiedI was a...</td>\n",
       "      <td>2024-05-08T21:37:23.000Z</td>\n",
       "      <td>&lt;div class=\"star-rating_starRating__4rrcf star...</td>\n",
       "      <td>I was anxious when I called egcu.org on…</td>\n",
       "      <td>I was anxious when I called egcu.org on Monday...</td>\n",
       "      <td>positive</td>\n",
       "    </tr>\n",
       "    <tr>\n",
       "      <th>11</th>\n",
       "      <td>DLDonna Lamb2 reviewsUSApr 29, 2024VerifiedBes...</td>\n",
       "      <td>2024-04-29T23:00:40.000Z</td>\n",
       "      <td>&lt;div class=\"star-rating_starRating__4rrcf star...</td>\n",
       "      <td>Best Credit Union</td>\n",
       "      <td>I have been with Evergreen Credit Union for ma...</td>\n",
       "      <td>negative</td>\n",
       "    </tr>\n",
       "    <tr>\n",
       "      <th>12</th>\n",
       "      <td>JAJohn and Rose Duran1 reviewUSDec 5, 2023Veri...</td>\n",
       "      <td>2023-12-05T19:39:13.000Z</td>\n",
       "      <td>&lt;div class=\"star-rating_starRating__4rrcf star...</td>\n",
       "      <td>We found Judy Brochu to be sincerely…</td>\n",
       "      <td>We found Judy Brochu to be sincerely warm and ...</td>\n",
       "      <td>positive</td>\n",
       "    </tr>\n",
       "    <tr>\n",
       "      <th>13</th>\n",
       "      <td>HHHeidi Hoffman2 reviewsUSFeb 22, 2024Verified...</td>\n",
       "      <td>2024-02-22T16:53:52.000Z</td>\n",
       "      <td>&lt;div class=\"star-rating_starRating__4rrcf star...</td>\n",
       "      <td>Great people and banking experiences</td>\n",
       "      <td>I have known about Evergreen Credit Union sinc...</td>\n",
       "      <td>negative</td>\n",
       "    </tr>\n",
       "    <tr>\n",
       "      <th>14</th>\n",
       "      <td>DADenise Asselin1 reviewUSFeb 16, 2024Verified...</td>\n",
       "      <td>2024-02-16T23:16:07.000Z</td>\n",
       "      <td>&lt;div class=\"star-rating_starRating__4rrcf star...</td>\n",
       "      <td>Happy customers…</td>\n",
       "      <td>We like having our financial services locally....</td>\n",
       "      <td>positive</td>\n",
       "    </tr>\n",
       "    <tr>\n",
       "      <th>15</th>\n",
       "      <td>LALisa A Barry1 reviewUSDec 29, 2023VerifiedEf...</td>\n",
       "      <td>2023-12-29T11:51:39.000Z</td>\n",
       "      <td>&lt;div class=\"star-rating_starRating__4rrcf star...</td>\n",
       "      <td>Efficiency</td>\n",
       "      <td>The woman in the office to the left as you ent...</td>\n",
       "      <td>negative</td>\n",
       "    </tr>\n",
       "    <tr>\n",
       "      <th>16</th>\n",
       "      <td>JWJoshua Walton1 reviewUSMar 22, 2024VerifiedM...</td>\n",
       "      <td>2024-03-22T00:33:32.000Z</td>\n",
       "      <td>&lt;div class=\"star-rating_starRating__4rrcf star...</td>\n",
       "      <td>My call to Member Services was answered…</td>\n",
       "      <td>My call to Member Services was answered immedi...</td>\n",
       "      <td>positive</td>\n",
       "    </tr>\n",
       "    <tr>\n",
       "      <th>17</th>\n",
       "      <td>MMM M1 reviewUSMar 2, 2024VerifiedChelsey C ha...</td>\n",
       "      <td>2024-03-02T02:45:00.000Z</td>\n",
       "      <td>&lt;div class=\"star-rating_starRating__4rrcf star...</td>\n",
       "      <td>Chelsey C has helped me…&amp; continues to…</td>\n",
       "      <td>Chelsey C has helped me…&amp; continues to help me...</td>\n",
       "      <td>negative</td>\n",
       "    </tr>\n",
       "    <tr>\n",
       "      <th>18</th>\n",
       "      <td>ALAlan1 reviewUSSep 23, 2023RedirectedExcellen...</td>\n",
       "      <td>2023-09-23T12:48:05.000Z</td>\n",
       "      <td>&lt;div class=\"star-rating_starRating__4rrcf star...</td>\n",
       "      <td>Excellent Service from Cassandra Hanson</td>\n",
       "      <td>Great experience with Cassandra Hanson and a l...</td>\n",
       "      <td>positive</td>\n",
       "    </tr>\n",
       "    <tr>\n",
       "      <th>19</th>\n",
       "      <td>DTDan Theberge3 reviewsUSMay 31, 2024VerifiedR...</td>\n",
       "      <td>2024-05-31T14:44:28.000Z</td>\n",
       "      <td>&lt;div class=\"star-rating_starRating__4rrcf star...</td>\n",
       "      <td>Rebecca did a wonderful job</td>\n",
       "      <td>Rebecca did a wonderful job! My problem was ha...</td>\n",
       "      <td>positive</td>\n",
       "    </tr>\n",
       "  </tbody>\n",
       "</table>\n",
       "</div>"
      ],
      "text/plain": [
       "                                        Reviewer Name  \\\n",
       "0   Dale Anketell2 reviewsUS7 days agoVerifiedMy E...   \n",
       "1   Marian Giovannini2 reviewsUSJul 18, 2024Disapp...   \n",
       "2   ASAshleigh Scalamandre1 reviewUSJul 10, 2024Ve...   \n",
       "3   TCTed Coffin1 reviewUSJul 5, 2024VerifiedGreat...   \n",
       "4   SSSherry Spaulding1 reviewUSJul 3, 2024Verifie...   \n",
       "5   NSNoel Sherburne1 reviewUSJun 18, 2024Verified...   \n",
       "6   MLMatthew L’Abbe1 reviewUSJun 18, 2024Verified...   \n",
       "7   LELindsay Edwards1 reviewUSMay 23, 2024Verifie...   \n",
       "8   KEKen1 reviewSEApr 20, 2024VerifiedSecurity I ...   \n",
       "9   TNThe Noyes Family1 reviewUSMay 10, 2024Verifi...   \n",
       "10  CUcustomer1 reviewUSMay 8, 2024VerifiedI was a...   \n",
       "11  DLDonna Lamb2 reviewsUSApr 29, 2024VerifiedBes...   \n",
       "12  JAJohn and Rose Duran1 reviewUSDec 5, 2023Veri...   \n",
       "13  HHHeidi Hoffman2 reviewsUSFeb 22, 2024Verified...   \n",
       "14  DADenise Asselin1 reviewUSFeb 16, 2024Verified...   \n",
       "15  LALisa A Barry1 reviewUSDec 29, 2023VerifiedEf...   \n",
       "16  JWJoshua Walton1 reviewUSMar 22, 2024VerifiedM...   \n",
       "17  MMM M1 reviewUSMar 2, 2024VerifiedChelsey C ha...   \n",
       "18  ALAlan1 reviewUSSep 23, 2023RedirectedExcellen...   \n",
       "19  DTDan Theberge3 reviewsUSMay 31, 2024VerifiedR...   \n",
       "\n",
       "                        Date  \\\n",
       "0   2024-07-30T21:52:51.000Z   \n",
       "1   2024-07-18T15:43:33.000Z   \n",
       "2   2024-07-10T17:43:24.000Z   \n",
       "3   2024-07-05T23:39:50.000Z   \n",
       "4   2024-07-03T01:46:56.000Z   \n",
       "5   2024-06-18T20:22:49.000Z   \n",
       "6   2024-06-18T18:56:21.000Z   \n",
       "7   2024-05-23T22:35:55.000Z   \n",
       "8   2024-04-20T18:12:35.000Z   \n",
       "9   2024-05-10T19:18:42.000Z   \n",
       "10  2024-05-08T21:37:23.000Z   \n",
       "11  2024-04-29T23:00:40.000Z   \n",
       "12  2023-12-05T19:39:13.000Z   \n",
       "13  2024-02-22T16:53:52.000Z   \n",
       "14  2024-02-16T23:16:07.000Z   \n",
       "15  2023-12-29T11:51:39.000Z   \n",
       "16  2024-03-22T00:33:32.000Z   \n",
       "17  2024-03-02T02:45:00.000Z   \n",
       "18  2023-09-23T12:48:05.000Z   \n",
       "19  2024-05-31T14:44:28.000Z   \n",
       "\n",
       "                                               Rating  \\\n",
       "0   <div class=\"star-rating_starRating__4rrcf star...   \n",
       "1   <div class=\"star-rating_starRating__4rrcf star...   \n",
       "2   <div class=\"star-rating_starRating__4rrcf star...   \n",
       "3   <div class=\"star-rating_starRating__4rrcf star...   \n",
       "4   <div class=\"star-rating_starRating__4rrcf star...   \n",
       "5   <div class=\"star-rating_starRating__4rrcf star...   \n",
       "6   <div class=\"star-rating_starRating__4rrcf star...   \n",
       "7   <div class=\"star-rating_starRating__4rrcf star...   \n",
       "8   <div class=\"star-rating_starRating__4rrcf star...   \n",
       "9   <div class=\"star-rating_starRating__4rrcf star...   \n",
       "10  <div class=\"star-rating_starRating__4rrcf star...   \n",
       "11  <div class=\"star-rating_starRating__4rrcf star...   \n",
       "12  <div class=\"star-rating_starRating__4rrcf star...   \n",
       "13  <div class=\"star-rating_starRating__4rrcf star...   \n",
       "14  <div class=\"star-rating_starRating__4rrcf star...   \n",
       "15  <div class=\"star-rating_starRating__4rrcf star...   \n",
       "16  <div class=\"star-rating_starRating__4rrcf star...   \n",
       "17  <div class=\"star-rating_starRating__4rrcf star...   \n",
       "18  <div class=\"star-rating_starRating__4rrcf star...   \n",
       "19  <div class=\"star-rating_starRating__4rrcf star...   \n",
       "\n",
       "                                     Review Title  \\\n",
       "0        My Experience with Evergreen has always…   \n",
       "1                                    Disappointed   \n",
       "2                       Amazing Team at Evergreen   \n",
       "3                          Great customer service   \n",
       "4          Evergreen Credit Union was amazing to…   \n",
       "5            I requested bank statements and the…   \n",
       "6                                Great experience   \n",
       "7                    Best Ever Banking Experience   \n",
       "8                                        Security   \n",
       "9   Exceptional Service From Entering to Exiting!   \n",
       "10       I was anxious when I called egcu.org on…   \n",
       "11                              Best Credit Union   \n",
       "12          We found Judy Brochu to be sincerely…   \n",
       "13           Great people and banking experiences   \n",
       "14                               Happy customers…   \n",
       "15                                     Efficiency   \n",
       "16       My call to Member Services was answered…   \n",
       "17        Chelsey C has helped me…& continues to…   \n",
       "18        Excellent Service from Cassandra Hanson   \n",
       "19                    Rebecca did a wonderful job   \n",
       "\n",
       "                                          Review Text sentiment_review  \n",
       "0   My Experience with Evergreen has always been n...         negative  \n",
       "1   I was very disappointed to be denied a credit ...         negative  \n",
       "2   I just wanted to thank the Evergreen Team agai...         positive  \n",
       "3   My wife and I are buying are house and somethi...         positive  \n",
       "4   Evergreen Credit Union was amazing to work wit...         positive  \n",
       "5   I requested bank statements and the request wa...         positive  \n",
       "6   I had multiple scam charges ending in a negati...         positive  \n",
       "7   Casey has been amazing to work with. I have be...         positive  \n",
       "8   I called the Evergreen's Portland location on ...         negative  \n",
       "9   We wanted to extend our gratitude to the excep...         positive  \n",
       "10  I was anxious when I called egcu.org on Monday...         positive  \n",
       "11  I have been with Evergreen Credit Union for ma...         negative  \n",
       "12  We found Judy Brochu to be sincerely warm and ...         positive  \n",
       "13  I have known about Evergreen Credit Union sinc...         negative  \n",
       "14  We like having our financial services locally....         positive  \n",
       "15  The woman in the office to the left as you ent...         negative  \n",
       "16  My call to Member Services was answered immedi...         positive  \n",
       "17  Chelsey C has helped me…& continues to help me...         negative  \n",
       "18  Great experience with Cassandra Hanson and a l...         positive  \n",
       "19  Rebecca did a wonderful job! My problem was ha...         positive  "
      ]
     },
     "execution_count": 22,
     "metadata": {},
     "output_type": "execute_result"
    }
   ],
   "source": [
    "data"
   ]
  },
  {
   "cell_type": "markdown",
   "id": "c23e89ad",
   "metadata": {},
   "source": [
    "# Twitter Dataset"
   ]
  },
  {
   "cell_type": "markdown",
   "id": "8503d5da",
   "metadata": {},
   "source": [
    "Source dataset: https://www.kaggle.com/datasets/jp797498e/twitter-entity-sentiment-analysis"
   ]
  },
  {
   "cell_type": "code",
   "execution_count": 23,
   "id": "177f79d1",
   "metadata": {},
   "outputs": [],
   "source": [
    "import pandas as pd \n",
    "column_names = ['id', 'game', 'sentiment', 'text']\n",
    "data_twitter = pd.read_csv(\"twitter_training.csv\",header=None, names=column_names, encoding='ISO-8859-1')\n"
   ]
  },
  {
   "cell_type": "code",
   "execution_count": 24,
   "id": "bcafad1c",
   "metadata": {},
   "outputs": [],
   "source": [
    "data_twitter = data_twitter.dropna()"
   ]
  },
  {
   "cell_type": "markdown",
   "id": "290d4610",
   "metadata": {},
   "source": [
    "On veux garder seulement pour notre modèle les labels positif et negatif"
   ]
  },
  {
   "cell_type": "code",
   "execution_count": 25,
   "id": "8fb0f0b8",
   "metadata": {},
   "outputs": [],
   "source": [
    "data_twitter = data_twitter[data_twitter[\"sentiment\"] != \"Irrelevant\"]\n",
    "data_twitter = data_twitter[data_twitter[\"sentiment\"] != \"Neutral\"]"
   ]
  },
  {
   "cell_type": "code",
   "execution_count": 26,
   "id": "47f44d8b",
   "metadata": {},
   "outputs": [],
   "source": [
    "from sklearn.model_selection import train_test_split\n",
    "X = data_twitter[\"text\"]\n",
    "y = data_twitter[\"sentiment\"]\n",
    "\n",
    "X_train, X_test, y_train, y_test = train_test_split(X, y, test_size=0.2, random_state = 30)"
   ]
  },
  {
   "cell_type": "code",
   "execution_count": 27,
   "id": "382edbcd",
   "metadata": {},
   "outputs": [],
   "source": [
    "X_train = X_train.str.lower().apply(tokenizer.tokenize)\n",
    "X_test = X_test.str.lower().apply(tokenizer.tokenize)\n",
    "\n",
    "X_train = X_train.apply(stop_words_filtering)\n",
    "X_test = X_test.apply(stop_words_filtering)\n",
    "\n",
    "X_train = X_train.apply(lemmatisation)\n",
    "X_test = X_test.apply(lemmatisation)\n",
    "\n",
    "X_train = X_train.apply(str)\n",
    "X_test = X_test.apply(str)"
   ]
  },
  {
   "cell_type": "code",
   "execution_count": 28,
   "id": "cd432f7b",
   "metadata": {},
   "outputs": [],
   "source": [
    "from sklearn.feature_extraction.text import CountVectorizer\n",
    "vectorizer = CountVectorizer()\n",
    "X_train = vectorizer.fit_transform(X_train)\n",
    "X_test = vectorizer.transform(X_test)"
   ]
  },
  {
   "cell_type": "code",
   "execution_count": 29,
   "id": "3371e53d",
   "metadata": {},
   "outputs": [],
   "source": [
    "from sklearn.ensemble import GradientBoostingClassifier\n",
    "clf = GradientBoostingClassifier(n_estimators=100, learning_rate=1.0, max_depth=1, random_state=42).fit(X_train, y_train)\n",
    "\n",
    "y_pred = clf.predict(X_test)"
   ]
  },
  {
   "cell_type": "code",
   "execution_count": 30,
   "id": "4345d5dc",
   "metadata": {},
   "outputs": [
    {
     "name": "stdout",
     "output_type": "stream",
     "text": [
      "              precision    recall  f1-score   support\n",
      "\n",
      "    Negative       0.70      0.90      0.78      4439\n",
      "    Positive       0.84      0.58      0.69      4164\n",
      "\n",
      "    accuracy                           0.74      8603\n",
      "   macro avg       0.77      0.74      0.74      8603\n",
      "weighted avg       0.77      0.74      0.74      8603\n",
      "\n"
     ]
    }
   ],
   "source": [
    "from sklearn.metrics import classification_report\n",
    "\n",
    "print( classification_report(y_test, y_pred))"
   ]
  },
  {
   "cell_type": "code",
   "execution_count": 31,
   "id": "e6a021e7",
   "metadata": {},
   "outputs": [],
   "source": [
    "data[\"sentiment_review\"] = extract_sentiment_cv(data[\"Review Text\"])"
   ]
  },
  {
   "cell_type": "code",
   "execution_count": 32,
   "id": "fe63f0cc",
   "metadata": {},
   "outputs": [],
   "source": [
    "r = extract_sentiment_cv(data[\"Review Text\"])"
   ]
  },
  {
   "cell_type": "code",
   "execution_count": 33,
   "id": "81352384",
   "metadata": {},
   "outputs": [
    {
     "data": {
      "text/html": [
       "<div>\n",
       "<style scoped>\n",
       "    .dataframe tbody tr th:only-of-type {\n",
       "        vertical-align: middle;\n",
       "    }\n",
       "\n",
       "    .dataframe tbody tr th {\n",
       "        vertical-align: top;\n",
       "    }\n",
       "\n",
       "    .dataframe thead th {\n",
       "        text-align: right;\n",
       "    }\n",
       "</style>\n",
       "<table border=\"1\" class=\"dataframe\">\n",
       "  <thead>\n",
       "    <tr style=\"text-align: right;\">\n",
       "      <th></th>\n",
       "      <th>Reviewer Name</th>\n",
       "      <th>Date</th>\n",
       "      <th>Rating</th>\n",
       "      <th>Review Title</th>\n",
       "      <th>Review Text</th>\n",
       "      <th>sentiment_review</th>\n",
       "    </tr>\n",
       "  </thead>\n",
       "  <tbody>\n",
       "    <tr>\n",
       "      <th>0</th>\n",
       "      <td>Dale Anketell2 reviewsUS7 days agoVerifiedMy E...</td>\n",
       "      <td>2024-07-30T21:52:51.000Z</td>\n",
       "      <td>&lt;div class=\"star-rating_starRating__4rrcf star...</td>\n",
       "      <td>My Experience with Evergreen has always…</td>\n",
       "      <td>My Experience with Evergreen has always been n...</td>\n",
       "      <td>Negative</td>\n",
       "    </tr>\n",
       "    <tr>\n",
       "      <th>1</th>\n",
       "      <td>Marian Giovannini2 reviewsUSJul 18, 2024Disapp...</td>\n",
       "      <td>2024-07-18T15:43:33.000Z</td>\n",
       "      <td>&lt;div class=\"star-rating_starRating__4rrcf star...</td>\n",
       "      <td>Disappointed</td>\n",
       "      <td>I was very disappointed to be denied a credit ...</td>\n",
       "      <td>Positive</td>\n",
       "    </tr>\n",
       "    <tr>\n",
       "      <th>2</th>\n",
       "      <td>ASAshleigh Scalamandre1 reviewUSJul 10, 2024Ve...</td>\n",
       "      <td>2024-07-10T17:43:24.000Z</td>\n",
       "      <td>&lt;div class=\"star-rating_starRating__4rrcf star...</td>\n",
       "      <td>Amazing Team at Evergreen</td>\n",
       "      <td>I just wanted to thank the Evergreen Team agai...</td>\n",
       "      <td>Positive</td>\n",
       "    </tr>\n",
       "    <tr>\n",
       "      <th>3</th>\n",
       "      <td>TCTed Coffin1 reviewUSJul 5, 2024VerifiedGreat...</td>\n",
       "      <td>2024-07-05T23:39:50.000Z</td>\n",
       "      <td>&lt;div class=\"star-rating_starRating__4rrcf star...</td>\n",
       "      <td>Great customer service</td>\n",
       "      <td>My wife and I are buying are house and somethi...</td>\n",
       "      <td>Positive</td>\n",
       "    </tr>\n",
       "    <tr>\n",
       "      <th>4</th>\n",
       "      <td>SSSherry Spaulding1 reviewUSJul 3, 2024Verifie...</td>\n",
       "      <td>2024-07-03T01:46:56.000Z</td>\n",
       "      <td>&lt;div class=\"star-rating_starRating__4rrcf star...</td>\n",
       "      <td>Evergreen Credit Union was amazing to…</td>\n",
       "      <td>Evergreen Credit Union was amazing to work wit...</td>\n",
       "      <td>Positive</td>\n",
       "    </tr>\n",
       "    <tr>\n",
       "      <th>5</th>\n",
       "      <td>NSNoel Sherburne1 reviewUSJun 18, 2024Verified...</td>\n",
       "      <td>2024-06-18T20:22:49.000Z</td>\n",
       "      <td>&lt;div class=\"star-rating_starRating__4rrcf star...</td>\n",
       "      <td>I requested bank statements and the…</td>\n",
       "      <td>I requested bank statements and the request wa...</td>\n",
       "      <td>Positive</td>\n",
       "    </tr>\n",
       "    <tr>\n",
       "      <th>6</th>\n",
       "      <td>MLMatthew L’Abbe1 reviewUSJun 18, 2024Verified...</td>\n",
       "      <td>2024-06-18T18:56:21.000Z</td>\n",
       "      <td>&lt;div class=\"star-rating_starRating__4rrcf star...</td>\n",
       "      <td>Great experience</td>\n",
       "      <td>I had multiple scam charges ending in a negati...</td>\n",
       "      <td>Negative</td>\n",
       "    </tr>\n",
       "    <tr>\n",
       "      <th>7</th>\n",
       "      <td>LELindsay Edwards1 reviewUSMay 23, 2024Verifie...</td>\n",
       "      <td>2024-05-23T22:35:55.000Z</td>\n",
       "      <td>&lt;div class=\"star-rating_starRating__4rrcf star...</td>\n",
       "      <td>Best Ever Banking Experience</td>\n",
       "      <td>Casey has been amazing to work with. I have be...</td>\n",
       "      <td>Positive</td>\n",
       "    </tr>\n",
       "    <tr>\n",
       "      <th>8</th>\n",
       "      <td>KEKen1 reviewSEApr 20, 2024VerifiedSecurity I ...</td>\n",
       "      <td>2024-04-20T18:12:35.000Z</td>\n",
       "      <td>&lt;div class=\"star-rating_starRating__4rrcf star...</td>\n",
       "      <td>Security</td>\n",
       "      <td>I called the Evergreen's Portland location on ...</td>\n",
       "      <td>Negative</td>\n",
       "    </tr>\n",
       "    <tr>\n",
       "      <th>9</th>\n",
       "      <td>TNThe Noyes Family1 reviewUSMay 10, 2024Verifi...</td>\n",
       "      <td>2024-05-10T19:18:42.000Z</td>\n",
       "      <td>&lt;div class=\"star-rating_starRating__4rrcf star...</td>\n",
       "      <td>Exceptional Service From Entering to Exiting!</td>\n",
       "      <td>We wanted to extend our gratitude to the excep...</td>\n",
       "      <td>Positive</td>\n",
       "    </tr>\n",
       "    <tr>\n",
       "      <th>10</th>\n",
       "      <td>CUcustomer1 reviewUSMay 8, 2024VerifiedI was a...</td>\n",
       "      <td>2024-05-08T21:37:23.000Z</td>\n",
       "      <td>&lt;div class=\"star-rating_starRating__4rrcf star...</td>\n",
       "      <td>I was anxious when I called egcu.org on…</td>\n",
       "      <td>I was anxious when I called egcu.org on Monday...</td>\n",
       "      <td>Positive</td>\n",
       "    </tr>\n",
       "    <tr>\n",
       "      <th>11</th>\n",
       "      <td>DLDonna Lamb2 reviewsUSApr 29, 2024VerifiedBes...</td>\n",
       "      <td>2024-04-29T23:00:40.000Z</td>\n",
       "      <td>&lt;div class=\"star-rating_starRating__4rrcf star...</td>\n",
       "      <td>Best Credit Union</td>\n",
       "      <td>I have been with Evergreen Credit Union for ma...</td>\n",
       "      <td>Positive</td>\n",
       "    </tr>\n",
       "    <tr>\n",
       "      <th>12</th>\n",
       "      <td>JAJohn and Rose Duran1 reviewUSDec 5, 2023Veri...</td>\n",
       "      <td>2023-12-05T19:39:13.000Z</td>\n",
       "      <td>&lt;div class=\"star-rating_starRating__4rrcf star...</td>\n",
       "      <td>We found Judy Brochu to be sincerely…</td>\n",
       "      <td>We found Judy Brochu to be sincerely warm and ...</td>\n",
       "      <td>Positive</td>\n",
       "    </tr>\n",
       "    <tr>\n",
       "      <th>13</th>\n",
       "      <td>HHHeidi Hoffman2 reviewsUSFeb 22, 2024Verified...</td>\n",
       "      <td>2024-02-22T16:53:52.000Z</td>\n",
       "      <td>&lt;div class=\"star-rating_starRating__4rrcf star...</td>\n",
       "      <td>Great people and banking experiences</td>\n",
       "      <td>I have known about Evergreen Credit Union sinc...</td>\n",
       "      <td>Positive</td>\n",
       "    </tr>\n",
       "    <tr>\n",
       "      <th>14</th>\n",
       "      <td>DADenise Asselin1 reviewUSFeb 16, 2024Verified...</td>\n",
       "      <td>2024-02-16T23:16:07.000Z</td>\n",
       "      <td>&lt;div class=\"star-rating_starRating__4rrcf star...</td>\n",
       "      <td>Happy customers…</td>\n",
       "      <td>We like having our financial services locally....</td>\n",
       "      <td>Positive</td>\n",
       "    </tr>\n",
       "    <tr>\n",
       "      <th>15</th>\n",
       "      <td>LALisa A Barry1 reviewUSDec 29, 2023VerifiedEf...</td>\n",
       "      <td>2023-12-29T11:51:39.000Z</td>\n",
       "      <td>&lt;div class=\"star-rating_starRating__4rrcf star...</td>\n",
       "      <td>Efficiency</td>\n",
       "      <td>The woman in the office to the left as you ent...</td>\n",
       "      <td>Negative</td>\n",
       "    </tr>\n",
       "    <tr>\n",
       "      <th>16</th>\n",
       "      <td>JWJoshua Walton1 reviewUSMar 22, 2024VerifiedM...</td>\n",
       "      <td>2024-03-22T00:33:32.000Z</td>\n",
       "      <td>&lt;div class=\"star-rating_starRating__4rrcf star...</td>\n",
       "      <td>My call to Member Services was answered…</td>\n",
       "      <td>My call to Member Services was answered immedi...</td>\n",
       "      <td>Positive</td>\n",
       "    </tr>\n",
       "    <tr>\n",
       "      <th>17</th>\n",
       "      <td>MMM M1 reviewUSMar 2, 2024VerifiedChelsey C ha...</td>\n",
       "      <td>2024-03-02T02:45:00.000Z</td>\n",
       "      <td>&lt;div class=\"star-rating_starRating__4rrcf star...</td>\n",
       "      <td>Chelsey C has helped me…&amp; continues to…</td>\n",
       "      <td>Chelsey C has helped me…&amp; continues to help me...</td>\n",
       "      <td>Negative</td>\n",
       "    </tr>\n",
       "    <tr>\n",
       "      <th>18</th>\n",
       "      <td>ALAlan1 reviewUSSep 23, 2023RedirectedExcellen...</td>\n",
       "      <td>2023-09-23T12:48:05.000Z</td>\n",
       "      <td>&lt;div class=\"star-rating_starRating__4rrcf star...</td>\n",
       "      <td>Excellent Service from Cassandra Hanson</td>\n",
       "      <td>Great experience with Cassandra Hanson and a l...</td>\n",
       "      <td>Positive</td>\n",
       "    </tr>\n",
       "    <tr>\n",
       "      <th>19</th>\n",
       "      <td>DTDan Theberge3 reviewsUSMay 31, 2024VerifiedR...</td>\n",
       "      <td>2024-05-31T14:44:28.000Z</td>\n",
       "      <td>&lt;div class=\"star-rating_starRating__4rrcf star...</td>\n",
       "      <td>Rebecca did a wonderful job</td>\n",
       "      <td>Rebecca did a wonderful job! My problem was ha...</td>\n",
       "      <td>Positive</td>\n",
       "    </tr>\n",
       "  </tbody>\n",
       "</table>\n",
       "</div>"
      ],
      "text/plain": [
       "                                        Reviewer Name  \\\n",
       "0   Dale Anketell2 reviewsUS7 days agoVerifiedMy E...   \n",
       "1   Marian Giovannini2 reviewsUSJul 18, 2024Disapp...   \n",
       "2   ASAshleigh Scalamandre1 reviewUSJul 10, 2024Ve...   \n",
       "3   TCTed Coffin1 reviewUSJul 5, 2024VerifiedGreat...   \n",
       "4   SSSherry Spaulding1 reviewUSJul 3, 2024Verifie...   \n",
       "5   NSNoel Sherburne1 reviewUSJun 18, 2024Verified...   \n",
       "6   MLMatthew L’Abbe1 reviewUSJun 18, 2024Verified...   \n",
       "7   LELindsay Edwards1 reviewUSMay 23, 2024Verifie...   \n",
       "8   KEKen1 reviewSEApr 20, 2024VerifiedSecurity I ...   \n",
       "9   TNThe Noyes Family1 reviewUSMay 10, 2024Verifi...   \n",
       "10  CUcustomer1 reviewUSMay 8, 2024VerifiedI was a...   \n",
       "11  DLDonna Lamb2 reviewsUSApr 29, 2024VerifiedBes...   \n",
       "12  JAJohn and Rose Duran1 reviewUSDec 5, 2023Veri...   \n",
       "13  HHHeidi Hoffman2 reviewsUSFeb 22, 2024Verified...   \n",
       "14  DADenise Asselin1 reviewUSFeb 16, 2024Verified...   \n",
       "15  LALisa A Barry1 reviewUSDec 29, 2023VerifiedEf...   \n",
       "16  JWJoshua Walton1 reviewUSMar 22, 2024VerifiedM...   \n",
       "17  MMM M1 reviewUSMar 2, 2024VerifiedChelsey C ha...   \n",
       "18  ALAlan1 reviewUSSep 23, 2023RedirectedExcellen...   \n",
       "19  DTDan Theberge3 reviewsUSMay 31, 2024VerifiedR...   \n",
       "\n",
       "                        Date  \\\n",
       "0   2024-07-30T21:52:51.000Z   \n",
       "1   2024-07-18T15:43:33.000Z   \n",
       "2   2024-07-10T17:43:24.000Z   \n",
       "3   2024-07-05T23:39:50.000Z   \n",
       "4   2024-07-03T01:46:56.000Z   \n",
       "5   2024-06-18T20:22:49.000Z   \n",
       "6   2024-06-18T18:56:21.000Z   \n",
       "7   2024-05-23T22:35:55.000Z   \n",
       "8   2024-04-20T18:12:35.000Z   \n",
       "9   2024-05-10T19:18:42.000Z   \n",
       "10  2024-05-08T21:37:23.000Z   \n",
       "11  2024-04-29T23:00:40.000Z   \n",
       "12  2023-12-05T19:39:13.000Z   \n",
       "13  2024-02-22T16:53:52.000Z   \n",
       "14  2024-02-16T23:16:07.000Z   \n",
       "15  2023-12-29T11:51:39.000Z   \n",
       "16  2024-03-22T00:33:32.000Z   \n",
       "17  2024-03-02T02:45:00.000Z   \n",
       "18  2023-09-23T12:48:05.000Z   \n",
       "19  2024-05-31T14:44:28.000Z   \n",
       "\n",
       "                                               Rating  \\\n",
       "0   <div class=\"star-rating_starRating__4rrcf star...   \n",
       "1   <div class=\"star-rating_starRating__4rrcf star...   \n",
       "2   <div class=\"star-rating_starRating__4rrcf star...   \n",
       "3   <div class=\"star-rating_starRating__4rrcf star...   \n",
       "4   <div class=\"star-rating_starRating__4rrcf star...   \n",
       "5   <div class=\"star-rating_starRating__4rrcf star...   \n",
       "6   <div class=\"star-rating_starRating__4rrcf star...   \n",
       "7   <div class=\"star-rating_starRating__4rrcf star...   \n",
       "8   <div class=\"star-rating_starRating__4rrcf star...   \n",
       "9   <div class=\"star-rating_starRating__4rrcf star...   \n",
       "10  <div class=\"star-rating_starRating__4rrcf star...   \n",
       "11  <div class=\"star-rating_starRating__4rrcf star...   \n",
       "12  <div class=\"star-rating_starRating__4rrcf star...   \n",
       "13  <div class=\"star-rating_starRating__4rrcf star...   \n",
       "14  <div class=\"star-rating_starRating__4rrcf star...   \n",
       "15  <div class=\"star-rating_starRating__4rrcf star...   \n",
       "16  <div class=\"star-rating_starRating__4rrcf star...   \n",
       "17  <div class=\"star-rating_starRating__4rrcf star...   \n",
       "18  <div class=\"star-rating_starRating__4rrcf star...   \n",
       "19  <div class=\"star-rating_starRating__4rrcf star...   \n",
       "\n",
       "                                     Review Title  \\\n",
       "0        My Experience with Evergreen has always…   \n",
       "1                                    Disappointed   \n",
       "2                       Amazing Team at Evergreen   \n",
       "3                          Great customer service   \n",
       "4          Evergreen Credit Union was amazing to…   \n",
       "5            I requested bank statements and the…   \n",
       "6                                Great experience   \n",
       "7                    Best Ever Banking Experience   \n",
       "8                                        Security   \n",
       "9   Exceptional Service From Entering to Exiting!   \n",
       "10       I was anxious when I called egcu.org on…   \n",
       "11                              Best Credit Union   \n",
       "12          We found Judy Brochu to be sincerely…   \n",
       "13           Great people and banking experiences   \n",
       "14                               Happy customers…   \n",
       "15                                     Efficiency   \n",
       "16       My call to Member Services was answered…   \n",
       "17        Chelsey C has helped me…& continues to…   \n",
       "18        Excellent Service from Cassandra Hanson   \n",
       "19                    Rebecca did a wonderful job   \n",
       "\n",
       "                                          Review Text sentiment_review  \n",
       "0   My Experience with Evergreen has always been n...         Negative  \n",
       "1   I was very disappointed to be denied a credit ...         Positive  \n",
       "2   I just wanted to thank the Evergreen Team agai...         Positive  \n",
       "3   My wife and I are buying are house and somethi...         Positive  \n",
       "4   Evergreen Credit Union was amazing to work wit...         Positive  \n",
       "5   I requested bank statements and the request wa...         Positive  \n",
       "6   I had multiple scam charges ending in a negati...         Negative  \n",
       "7   Casey has been amazing to work with. I have be...         Positive  \n",
       "8   I called the Evergreen's Portland location on ...         Negative  \n",
       "9   We wanted to extend our gratitude to the excep...         Positive  \n",
       "10  I was anxious when I called egcu.org on Monday...         Positive  \n",
       "11  I have been with Evergreen Credit Union for ma...         Positive  \n",
       "12  We found Judy Brochu to be sincerely warm and ...         Positive  \n",
       "13  I have known about Evergreen Credit Union sinc...         Positive  \n",
       "14  We like having our financial services locally....         Positive  \n",
       "15  The woman in the office to the left as you ent...         Negative  \n",
       "16  My call to Member Services was answered immedi...         Positive  \n",
       "17  Chelsey C has helped me…& continues to help me...         Negative  \n",
       "18  Great experience with Cassandra Hanson and a l...         Positive  \n",
       "19  Rebecca did a wonderful job! My problem was ha...         Positive  "
      ]
     },
     "execution_count": 33,
     "metadata": {},
     "output_type": "execute_result"
    }
   ],
   "source": [
    "data"
   ]
  }
 ],
 "metadata": {
  "kernelspec": {
   "display_name": "Python 3 (ipykernel)",
   "language": "python",
   "name": "python3"
  },
  "language_info": {
   "codemirror_mode": {
    "name": "ipython",
    "version": 3
   },
   "file_extension": ".py",
   "mimetype": "text/x-python",
   "name": "python",
   "nbconvert_exporter": "python",
   "pygments_lexer": "ipython3",
   "version": "3.11.3"
  }
 },
 "nbformat": 4,
 "nbformat_minor": 5
}
